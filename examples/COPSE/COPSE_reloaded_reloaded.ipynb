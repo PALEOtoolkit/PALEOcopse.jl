{
 "cells": [
  {
   "cell_type": "markdown",
   "metadata": {},
   "source": [
    "# Run and plot COPSE Reloaded output"
   ]
  },
  {
   "cell_type": "code",
   "execution_count": null,
   "metadata": {},
   "outputs": [],
   "source": [
    "#Configure width of Jupyter notebook in browser\n",
    "#https://discourse.julialang.org/t/decrease-margins-of-ijulia-in-jupyter-notebook/6912\n",
    "# display(\"text/html\", \"<style>.container { width:100% !important; }</style>\")\n",
    "#Increase width used by Julia output eg DataFrame\n",
    "ENV[\"COLUMNS\"]=160\n",
    "ENV[\"LINES\"] = 1000  # show up to 1000 lines of datatable output\n",
    "\n",
    "# activate the correct environment\n",
    "import Pkg\n",
    "# NB: jupyter still seems to separately precompile from the REPL ?\n",
    "Pkg.activate(\"../\")\n",
    "\n",
    "using Revise\n",
    "using Plots; plotlyjs(size=(750, 565));"
   ]
  },
  {
   "cell_type": "code",
   "execution_count": null,
   "metadata": {},
   "outputs": [],
   "source": [
    "using DataFrames\n",
    "\n",
    "\n",
    "# Import PALEO modules\n",
    "\n",
    "import PALEOboxes as PB\n",
    "\n",
    "import PALEOmodel\n",
    "\n",
    "import PALEOcopse\n"
   ]
  },
  {
   "cell_type": "markdown",
   "metadata": {},
   "source": [
    "## Call copse_reloaded_expts to create run object parameterized for COPSE reloaded baseline case"
   ]
  },
  {
   "cell_type": "code",
   "execution_count": null,
   "metadata": {},
   "outputs": [],
   "source": [
    "include(\"copse_reloaded_reloaded_expts.jl\")\n",
    "\n",
    "model = copse_reloaded_reloaded_expts(\"reloaded\", [\"baseline\"])\n"
   ]
  },
  {
   "cell_type": "markdown",
   "metadata": {},
   "source": [
    "## Call PALEOmodel.initialize! to get initial_state vector, and modeldata storage struct"
   ]
  },
  {
   "cell_type": "code",
   "execution_count": null,
   "metadata": {
    "scrolled": true
   },
   "outputs": [],
   "source": [
    "initial_state, modeldata = PALEOmodel.initialize!(model)"
   ]
  },
  {
   "cell_type": "markdown",
   "metadata": {},
   "source": [
    "## Optional step useful for debugging: check model derivative"
   ]
  },
  {
   "cell_type": "code",
   "execution_count": null,
   "metadata": {},
   "outputs": [],
   "source": [
    "# call ODE function to check derivative\n",
    "initial_deriv = similar(initial_state)\n",
    "\n",
    "PALEOmodel.SolverFunctions.ModelODE(modeldata)(\n",
    "    initial_deriv,\n",
    "    initial_state,\n",
    "    nothing,\n",
    "    0.0\n",
    ")\n",
    "\n",
    "println(\"initial_state\", initial_state)\n",
    "println(\"initial_deriv\", initial_deriv)\n",
    "\n",
    "println()\n",
    "for (var, var_sms) in zip(PB.get_vars(modeldata.solver_view_all.stateexplicit), PB.get_vars(modeldata.solver_view_all.stateexplicit_deriv))\n",
    "    var_data = PB.get_data(var, modeldata)\n",
    "    var_sms_data = PB.get_data(var_sms, modeldata)\n",
    "    println(\n",
    "        var.name, \"\\t\", var_data[], \"\\t\", var_sms.name, \"\\t\", var_sms_data[],\n",
    "        \"\\ttimescale (total) (yr)\\t\", abs(PB.get_total(var_data[])/PB.get_total(var_sms_data[]))\n",
    "    )\n",
    "end"
   ]
  },
  {
   "cell_type": "markdown",
   "metadata": {},
   "source": [
    "## Integrate model as an ODE"
   ]
  },
  {
   "cell_type": "code",
   "execution_count": null,
   "metadata": {},
   "outputs": [],
   "source": [
    "println(\"integrate, ODE\")\n",
    "\n",
    "paleorun = PALEOmodel.Run(model=model, output = PALEOmodel.OutputWriters.OutputMemory())\n",
    "\n",
    "# first run includes JIT time\n",
    "@time PALEOmodel.ODE.integrate(\n",
    "    paleorun, initial_state, modeldata, (-1000e6, 0),\n",
    "    solvekwargs=(\n",
    "        reltol=1e-4,\n",
    "    )\n",
    ");\n"
   ]
  },
  {
   "cell_type": "markdown",
   "metadata": {},
   "source": [
    "## Plot output"
   ]
  },
  {
   "cell_type": "code",
   "execution_count": null,
   "metadata": {
    "scrolled": true
   },
   "outputs": [],
   "source": [
    "copse_reloaded_reloaded_plot(paleorun.output);"
   ]
  },
  {
   "cell_type": "markdown",
   "metadata": {},
   "source": [
    "## Compare against archived model output from Lenton, Daines, Mills (2018)"
   ]
  },
  {
   "cell_type": "code",
   "execution_count": null,
   "metadata": {
    "scrolled": true
   },
   "outputs": [],
   "source": [
    "# load archived model output\n",
    "include(\"compare_output.jl\")\n",
    "\n",
    "comparedata = CompareOutput.copse_output_load(\"reloaded\",\"reloaded_baseline\")\n",
    "\n",
    "diff = CompareOutput.compare_copse_output(paleorun.output, comparedata)\n",
    "firstpoint=50\n",
    "sort(DataFrames.describe(diff[firstpoint:end, :], :std, :min, :max, :mean), :std)"
   ]
  },
  {
   "cell_type": "markdown",
   "metadata": {},
   "source": [
    "## Display model parameters\n",
    "This illustrates the modularised model structure, with:\n",
    "- Domains global, atm, land, ocean, oceansurface, oceanfloor, sedcrust containing forcings and biogeochemical Reactions, with Parameters attached to each Reaction.\n",
    "- Additional Domains fluxAtoLand, fluxLandtoSedCrust, fluxOceanBurial, fluxOceanfloor, fluxRtoOcean, fluxSedCrusttoAOcean containing flux coupler Reactions."
   ]
  },
  {
   "cell_type": "code",
   "execution_count": null,
   "metadata": {
    "scrolled": true
   },
   "outputs": [],
   "source": [
    "\n",
    "PB.show_parameters(model)"
   ]
  },
  {
   "cell_type": "markdown",
   "metadata": {},
   "source": [
    "## Display model Variables\n",
    "This illustrates the modularized model structure, with:\n",
    "- Domains global, atm, land, ocean, oceansurface, oceanfloor, sedcrust containing Variables linked to Reactions (either property-dependencies or target-contributors pairs).\n",
    "- Additional Domains fluxAtoLand, fluxLandtoSedCrust, fluxOceanBurial, fluxOceanfloor, fluxRtoOcean, fluxSedCrusttoAOcean containing target-contributor pairs representing inter-module fluxes."
   ]
  },
  {
   "cell_type": "code",
   "execution_count": null,
   "metadata": {
    "scrolled": true
   },
   "outputs": [],
   "source": [
    "ENV[\"COLUMNS\"]=600\n",
    "PB.show_variables(model, modeldata=modeldata, showlinks=true)"
   ]
  },
  {
   "cell_type": "markdown",
   "metadata": {},
   "source": [
    "## Display model output"
   ]
  },
  {
   "cell_type": "code",
   "execution_count": null,
   "metadata": {
    "scrolled": true
   },
   "outputs": [],
   "source": [
    "# output is a Dict of OutputMemoryDomains, data field is a DataFrame with output for that Domain\n",
    "println(\"paleorun.domains keys: \", keys(paleorun.output.domains))\n",
    "\n",
    "# list fields in 'atm' Domain\n",
    "println(\"output[\\\"atm\\\"] names: \", names(paleorun.output.domains[\"atm\"].data))\n",
    "\n",
    "# show a subset of output fields\n",
    "paleorun.output.domains[\"atm\"].data[!, [:tmodel, :pCO2atm, :pCO2PAL]]"
   ]
  },
  {
   "cell_type": "markdown",
   "metadata": {},
   "source": [
    "## Change climate sensitivity from default 3C to 6C and compare pCO2 prediction (see Lenton etal (2018) Figure 11)"
   ]
  },
  {
   "cell_type": "code",
   "execution_count": null,
   "metadata": {
    "scrolled": true
   },
   "outputs": [],
   "source": [
    "# rerun and keep baseline output for comparison\n",
    "\n",
    "PB.setvalue!(PB.get_reaction(model, \"global\", \"temp_global\").pars.k_c, 4.328)\n",
    "paleorun = PALEOmodel.Run(model=model, output = PALEOmodel.OutputWriters.OutputMemory())\n",
    "PALEOmodel.ODE.integrate(\n",
    "    paleorun, initial_state, modeldata, (-1000e6, 0),\n",
    "    solvekwargs=(\n",
    "        reltol=1e-4,\n",
    "    )\n",
    ")\n",
    "output_baseline_3C = paleorun.output\n",
    "\n",
    "PB.setvalue!(PB.get_reaction(model, \"global\", \"temp_global\").pars.k_c, 8.656)\n",
    "paleorun = PALEOmodel.Run(model=model, output = PALEOmodel.OutputWriters.OutputMemory())\n",
    "PALEOmodel.ODE.integrate(\n",
    "    paleorun, initial_state, modeldata, (-1000e6, 0),\n",
    "    solvekwargs=(\n",
    "        reltol=1e-4,\n",
    "    )\n",
    ")\n",
    "output_baseline_6C = paleorun.output\n"
   ]
  },
  {
   "cell_type": "code",
   "execution_count": null,
   "metadata": {},
   "outputs": [],
   "source": [
    "# model-model plot\n",
    "copse_reloaded_reloaded_plot([output_baseline_6C, output_baseline_3C]);\n"
   ]
  },
  {
   "cell_type": "markdown",
   "metadata": {},
   "source": [
    "## Overlay comparison data (data compilations available on request, not publically distributable)"
   ]
  },
  {
   "cell_type": "code",
   "execution_count": null,
   "metadata": {
    "scrolled": false
   },
   "outputs": [],
   "source": [
    "# compare to data\n",
    "# include(\"compare_output_plots.jl\")\n",
    "# copse_reloaded_comparedata([output_baseline_6C, output_baseline_3C], include_Sr=true)\n"
   ]
  },
  {
   "cell_type": "markdown",
   "metadata": {},
   "source": [
    "# Additional diagnostic checks"
   ]
  },
  {
   "cell_type": "code",
   "execution_count": null,
   "metadata": {
    "scrolled": false
   },
   "outputs": [],
   "source": [
    "PB.show_methods_setup(model)"
   ]
  },
  {
   "cell_type": "code",
   "execution_count": null,
   "metadata": {
    "scrolled": false
   },
   "outputs": [],
   "source": [
    "PB.show_methods_initialize(model)"
   ]
  },
  {
   "cell_type": "code",
   "execution_count": null,
   "metadata": {
    "scrolled": false
   },
   "outputs": [],
   "source": [
    "PB.show_methods_do(model)"
   ]
  },
  {
   "cell_type": "code",
   "execution_count": null,
   "metadata": {},
   "outputs": [],
   "source": [
    "# Get state variables\n",
    "\n",
    "println()\n",
    "println(\"state and sms vars:\")\n",
    "println()\n",
    "\n",
    "for (var, var_sms) in zip(PB.get_vars(modeldata.solver_view_all.stateexplicit), PB.get_vars(modeldata.solver_view_all.stateexplicit_deriv))\n",
    "    println(var.name, \"\\t\\t\", PB.get_var_type(var), \"\\t\\t\", PB.get_attribute(var, :units), \"\\t\\t\", PB.get_attribute(var, :description))\n",
    "    println(var_sms.name, \"\\t\\t\", PB.get_var_type(var_sms), \"\\t\\t\", PB.get_attribute(var_sms, :units), \"\\t\\t\", PB.get_attribute(var_sms, :description))\n",
    "end\n",
    "\n",
    "\n",
    "const expected_num_state_variables = 11\n",
    "num_state_variables = PB.num_vars(modeldata.solver_view_all.stateexplicit)\n",
    "\n",
    "println(\"num_state_variables = \", num_state_variables)\n",
    "@PB.TestUtils.check_true num_state_variables == expected_num_state_variables\n"
   ]
  },
  {
   "cell_type": "code",
   "execution_count": null,
   "metadata": {
    "scrolled": false
   },
   "outputs": [],
   "source": [
    "# Check variable access and metadata\n",
    "\n",
    "# Create a DataFrame of filtered VariableDomain objects\n",
    "# define a function to filter variables\n",
    "filterstatevars(attrb) = attrb[:vfunction] == PB.VF_StateExplicit\n",
    "PB.show_variables(model, modeldata=modeldata, filter=filterstatevars, showlinks=true)[:, [:name, :units, :vfunction, :description, :data, :dependencies]]\n"
   ]
  },
  {
   "cell_type": "code",
   "execution_count": null,
   "metadata": {},
   "outputs": [],
   "source": []
  },
  {
   "cell_type": "code",
   "execution_count": null,
   "metadata": {},
   "outputs": [],
   "source": []
  }
 ],
 "metadata": {
  "kernelspec": {
   "display_name": "Julia 1.7.2",
   "language": "julia",
   "name": "julia-1.7"
  },
  "language_info": {
   "file_extension": ".jl",
   "mimetype": "application/julia",
   "name": "julia",
   "version": "1.7.2"
  }
 },
 "nbformat": 4,
 "nbformat_minor": 4
}
